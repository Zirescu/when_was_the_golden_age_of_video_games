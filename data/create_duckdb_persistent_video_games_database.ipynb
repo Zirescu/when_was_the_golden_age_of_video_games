{
 "cells": [
  {
   "cell_type": "markdown",
   "metadata": {},
   "source": [
    "# Project: When was the Golden Age of Video Games\n",
    "## Creating a persistent duckDB database\n",
    "\n",
    "### Assumptions:\n",
    "-  [DuckDB](https://duckdb.org/docs/guides/python/jupyter) and [JupySQL](https://jupysql.ploomber.io/en/latest/quick-start.html) are installed.\n",
    "> %pip install jupysql duckdb-engine --quiet   \n",
    "> You may need to restart the kernel to use updated packages.\n",
    "\n",
    "### Caveats:\n",
    "- `video_games.duckdb` was created using DuckDB version 0.9.2. See [here](https://duckdb.org/internals/storage) for related info.\n",
    "  \n",
    "\n",
    "The following are steps to create a persistent DudkDB database for use with the project [notebook](https://github.com/Zirescu/when_was_the_golden_age_of_video_games/blob/main/when_was_the_golden_age_of_video_games.ipynb). While it isn't a requirement to use a persistent database I've chosen to use one to show the flexibility of DuckDB. \n"
   ]
  },
  {
   "cell_type": "markdown",
   "metadata": {},
   "source": [
    "### 1. Load in the sql extension and setup a connection to a persistent DuckDB database."
   ]
  },
  {
   "cell_type": "code",
   "execution_count": 1,
   "metadata": {},
   "outputs": [
    {
     "data": {
      "text/html": [
       "<span style=\"None\">Connecting to &#x27;video_games&#x27;</span>"
      ],
      "text/plain": [
       "Connecting to 'video_games'"
      ]
     },
     "metadata": {},
     "output_type": "display_data"
    }
   ],
   "source": [
    "%load_ext sql\n",
    "%sql duckdb:///video_games.duckdb --alias video_games"
   ]
  },
  {
   "cell_type": "markdown",
   "metadata": {},
   "source": [
    "### 2. Execute the queries to create the tables and load in our data from the corresponding CSV files."
   ]
  },
  {
   "cell_type": "code",
   "execution_count": 3,
   "metadata": {
    "vscode": {
     "languageId": "sql"
    }
   },
   "outputs": [
    {
     "data": {
      "text/html": [
       "<span style=\"None\">Running query in &#x27;video_games&#x27;</span>"
      ],
      "text/plain": [
       "Running query in 'video_games'"
      ]
     },
     "metadata": {},
     "output_type": "display_data"
    },
    {
     "data": {
      "text/html": [
       "<table>\n",
       "    <thead>\n",
       "        <tr>\n",
       "            <th>Count</th>\n",
       "        </tr>\n",
       "    </thead>\n",
       "    <tbody>\n",
       "    </tbody>\n",
       "</table>"
      ],
      "text/plain": [
       "+-------+\n",
       "| Count |\n",
       "+-------+\n",
       "+-------+"
      ]
     },
     "execution_count": 3,
     "metadata": {},
     "output_type": "execute_result"
    }
   ],
   "source": [
    "%%sql \n",
    "DROP TABLE IF EXISTS game_sales;\n",
    "\n",
    "CREATE TABLE game_sales (\n",
    "  game VARCHAR(100) PRIMARY KEY,\n",
    "  platform VARCHAR(64),\n",
    "  publisher VARCHAR(64),\n",
    "  developer VARCHAR(64),\n",
    "  games_sold NUMERIC(5, 2),\n",
    "  year INT\n",
    ");\n",
    "\n",
    "DROP TABLE IF EXISTS reviews;\n",
    "\n",
    "CREATE TABLE reviews (\n",
    "    game VARCHAR(100) PRIMARY KEY,\n",
    "    critic_score NUMERIC(4, 2),   \n",
    "    user_score NUMERIC(4, 2)\n",
    ");\n",
    "\n",
    "DROP TABLE IF EXISTS top_critic_years;\n",
    "\n",
    "CREATE TABLE top_critic_years (\n",
    "    year INT PRIMARY KEY,\n",
    "    avg_critic_score NUMERIC(4, 2)  \n",
    ");\n",
    "\n",
    "DROP TABLE IF EXISTS top_critic_years_more_than_four_games;\n",
    "\n",
    "CREATE TABLE top_critic_years_more_than_four_games (\n",
    "    year INT PRIMARY KEY,\n",
    "    num_games INT,\n",
    "    avg_critic_score NUMERIC(4, 2)  \n",
    ");\n",
    "\n",
    "DROP TABLE IF EXISTS  top_user_years_more_than_four_games;\n",
    "\n",
    "CREATE TABLE top_user_years_more_than_four_games (\n",
    "    year INT PRIMARY KEY,\n",
    "    num_games INT,\n",
    "    avg_user_score NUMERIC(4, 2)  \n",
    ");\n",
    "\n",
    "COPY game_sales FROM 'csv/game_sales.csv' (AUTO_DETECT TRUE);\n",
    "COPY reviews FROM 'csv/game_reviews.csv' (AUTO_DETECT TRUE);\n",
    "COPY top_critic_years FROM 'csv/top_critic_scores.csv' (AUTO_DETECT TRUE);\n",
    "COPY top_critic_years_more_than_four_games FROM 'csv/top_critic_scores_more_than_four_games.csv' (AUTO_DETECT TRUE);\n",
    "COPY top_user_years_more_than_four_games FROM 'csv/top_user_scores_more_than_four_games.csv' (AUTO_DETECT TRUE);"
   ]
  },
  {
   "cell_type": "markdown",
   "metadata": {},
   "source": [
    "### 3. Validate our tables and columns were created using the [duckdb_tables](https://duckdb.org/docs/sql/duckdb_table_functions#duckdb_tables) function"
   ]
  },
  {
   "cell_type": "code",
   "execution_count": 18,
   "metadata": {
    "vscode": {
     "languageId": "sql"
    }
   },
   "outputs": [
    {
     "data": {
      "text/html": [
       "<span style=\"None\">Running query in &#x27;video_games&#x27;</span>"
      ],
      "text/plain": [
       "Running query in 'video_games'"
      ]
     },
     "metadata": {},
     "output_type": "display_data"
    },
    {
     "data": {
      "text/html": [
       "<table>\n",
       "    <thead>\n",
       "        <tr>\n",
       "            <th>database_name</th>\n",
       "            <th>table_name</th>\n",
       "            <th>has_primary_key</th>\n",
       "            <th>estimated_size</th>\n",
       "            <th>column_count</th>\n",
       "        </tr>\n",
       "    </thead>\n",
       "    <tbody>\n",
       "        <tr>\n",
       "            <td>video_games</td>\n",
       "            <td>game_sales</td>\n",
       "            <td>True</td>\n",
       "            <td>400</td>\n",
       "            <td>6</td>\n",
       "        </tr>\n",
       "        <tr>\n",
       "            <td>video_games</td>\n",
       "            <td>reviews</td>\n",
       "            <td>True</td>\n",
       "            <td>400</td>\n",
       "            <td>3</td>\n",
       "        </tr>\n",
       "        <tr>\n",
       "            <td>video_games</td>\n",
       "            <td>top_critic_years</td>\n",
       "            <td>True</td>\n",
       "            <td>10</td>\n",
       "            <td>2</td>\n",
       "        </tr>\n",
       "        <tr>\n",
       "            <td>video_games</td>\n",
       "            <td>top_critic_years_more_than_four_games</td>\n",
       "            <td>True</td>\n",
       "            <td>10</td>\n",
       "            <td>3</td>\n",
       "        </tr>\n",
       "        <tr>\n",
       "            <td>video_games</td>\n",
       "            <td>top_user_years_more_than_four_games</td>\n",
       "            <td>True</td>\n",
       "            <td>10</td>\n",
       "            <td>3</td>\n",
       "        </tr>\n",
       "    </tbody>\n",
       "</table>"
      ],
      "text/plain": [
       "+---------------+---------------------------------------+-----------------+----------------+--------------+\n",
       "| database_name |               table_name              | has_primary_key | estimated_size | column_count |\n",
       "+---------------+---------------------------------------+-----------------+----------------+--------------+\n",
       "|  video_games  |               game_sales              |       True      |      400       |      6       |\n",
       "|  video_games  |                reviews                |       True      |      400       |      3       |\n",
       "|  video_games  |            top_critic_years           |       True      |       10       |      2       |\n",
       "|  video_games  | top_critic_years_more_than_four_games |       True      |       10       |      3       |\n",
       "|  video_games  |  top_user_years_more_than_four_games  |       True      |       10       |      3       |\n",
       "+---------------+---------------------------------------+-----------------+----------------+--------------+"
      ]
     },
     "execution_count": 18,
     "metadata": {},
     "output_type": "execute_result"
    }
   ],
   "source": [
    "%%sql \n",
    "SELECT \n",
    "    database_name,\n",
    "    table_name,\n",
    "    has_primary_key,\n",
    "    estimated_size,\n",
    "    column_count\n",
    "FROM duckdb_tables();\n"
   ]
  },
  {
   "cell_type": "markdown",
   "metadata": {},
   "source": [
    "### 4. Show and then close our database connection"
   ]
  },
  {
   "cell_type": "code",
   "execution_count": 29,
   "metadata": {
    "vscode": {
     "languageId": "sql"
    }
   },
   "outputs": [
    {
     "data": {
      "text/html": [
       "Active connections:\n",
       "<table>\n",
       "    <thead>\n",
       "        <tr>\n",
       "            <th>current</th>\n",
       "            <th>url</th>\n",
       "            <th>alias</th>\n",
       "        </tr>\n",
       "    </thead>\n",
       "    <tbody>\n",
       "        <tr>\n",
       "            <td>*</td>\n",
       "            <td>duckdb:///video_games.duckdb</td>\n",
       "            <td>video_games</td>\n",
       "        </tr>\n",
       "    </tbody>\n",
       "</table>"
      ],
      "text/plain": [
       "Active connections:\n",
       "+---------+------------------------------+-------------+\n",
       "| current |             url              |    alias    |\n",
       "+---------+------------------------------+-------------+\n",
       "|    *    | duckdb:///video_games.duckdb | video_games |\n",
       "+---------+------------------------------+-------------+"
      ]
     },
     "execution_count": 29,
     "metadata": {},
     "output_type": "execute_result"
    }
   ],
   "source": [
    "%sql -l\n"
   ]
  },
  {
   "cell_type": "code",
   "execution_count": 30,
   "metadata": {
    "vscode": {
     "languageId": "sql"
    }
   },
   "outputs": [],
   "source": [
    "%sql --close video_games"
   ]
  },
  {
   "cell_type": "code",
   "execution_count": 31,
   "metadata": {
    "vscode": {
     "languageId": "sql"
    }
   },
   "outputs": [
    {
     "data": {
      "text/html": [
       "Active connections:\n",
       "<table>\n",
       "    <thead>\n",
       "        <tr>\n",
       "            <th>current</th>\n",
       "            <th>url</th>\n",
       "            <th>alias</th>\n",
       "        </tr>\n",
       "    </thead>\n",
       "    <tbody>\n",
       "    </tbody>\n",
       "</table>"
      ],
      "text/plain": [
       "Active connections:\n",
       "+---------+-----+-------+\n",
       "| current | url | alias |\n",
       "+---------+-----+-------+\n",
       "+---------+-----+-------+"
      ]
     },
     "execution_count": 31,
     "metadata": {},
     "output_type": "execute_result"
    }
   ],
   "source": [
    "%sql -l"
   ]
  },
  {
   "cell_type": "markdown",
   "metadata": {},
   "source": [
    "**This concludes creating the database.**\n",
    "\n",
    "### Note\n",
    "I've noticed with VSCodium that if this notebook remains open it still maintians some hold over the database file so you may need to close out the notebook or restart the kernel. \n",
    "\n",
    "**Sample error message:**\n",
    "> RuntimeError: (duckdb.duckdb.IOException) IO Error: Cannot open file \"...\": The process cannot access the file because it is being used by another process.\n"
   ]
  }
 ],
 "metadata": {
  "kernelspec": {
   "display_name": "Python 3",
   "language": "python",
   "name": "python3"
  },
  "language_info": {
   "codemirror_mode": {
    "name": "ipython",
    "version": 3
   },
   "file_extension": ".py",
   "mimetype": "text/x-python",
   "name": "python",
   "nbconvert_exporter": "python",
   "pygments_lexer": "ipython3",
   "version": "3.11.7"
  }
 },
 "nbformat": 4,
 "nbformat_minor": 2
}
